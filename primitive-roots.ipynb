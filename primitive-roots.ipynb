{
 "cells": [
  {
   "cell_type": "markdown",
   "id": "c56f3330",
   "metadata": {},
   "source": [
    "### gcd helper function"
   ]
  },
  {
   "cell_type": "code",
   "execution_count": 1,
   "id": "81a7bee0",
   "metadata": {},
   "outputs": [],
   "source": [
    "# computes gcd using Euclidean algorithm\n",
    "def gcd(a, b):\n",
    "    while a != 0:\n",
    "        (q, a), b = divmod(b, a), a\n",
    "    return b"
   ]
  },
  {
   "cell_type": "code",
   "execution_count": 2,
   "id": "b9878040",
   "metadata": {},
   "outputs": [
    {
     "data": {
      "text/plain": [
       "4"
      ]
     },
     "execution_count": 2,
     "metadata": {},
     "output_type": "execute_result"
    }
   ],
   "source": [
    "gcd(32,4)"
   ]
  },
  {
   "cell_type": "markdown",
   "id": "a59598c0",
   "metadata": {},
   "source": [
    "### Finding the multiplicative order of $a$ mod $m$"
   ]
  },
  {
   "cell_type": "code",
   "execution_count": 3,
   "id": "76df3651",
   "metadata": {},
   "outputs": [],
   "source": [
    "def ordmod(m, a):\n",
    "# input: m, modulus\n",
    "#        a, integer\n",
    "# output: ord_m(a), the multiplicative order of a mod m\n",
    "    if gcd(m, a) != 1:\n",
    "        raise Exception('m and a must be relatively prime!')\n",
    "    b = a % m\n",
    "    count = 1\n",
    "    while(True):\n",
    "        if b == 1:\n",
    "            return count\n",
    "        else:\n",
    "            b = b*a % m \n",
    "            count = count + 1\n",
    "    \n",
    "\n"
   ]
  },
  {
   "cell_type": "code",
   "execution_count": 4,
   "id": "8059bc23",
   "metadata": {},
   "outputs": [
    {
     "data": {
      "text/plain": [
       "8"
      ]
     },
     "execution_count": 4,
     "metadata": {},
     "output_type": "execute_result"
    }
   ],
   "source": [
    "ordmod(32,3)"
   ]
  },
  {
   "cell_type": "markdown",
   "id": "f21640d9",
   "metadata": {},
   "source": [
    "### For every $a$ such that $\\gcd(32,a)=1$, print $\\operatorname{ord}_{32}(a)$"
   ]
  },
  {
   "cell_type": "code",
   "execution_count": 5,
   "id": "3462f661",
   "metadata": {},
   "outputs": [
    {
     "name": "stdout",
     "output_type": "stream",
     "text": [
      "ord_32(1)=1\n",
      "ord_32(3)=8\n",
      "ord_32(5)=8\n",
      "ord_32(7)=4\n",
      "ord_32(9)=4\n",
      "ord_32(11)=8\n",
      "ord_32(13)=8\n",
      "ord_32(15)=2\n",
      "ord_32(17)=2\n",
      "ord_32(19)=8\n",
      "ord_32(21)=8\n",
      "ord_32(23)=4\n",
      "ord_32(25)=4\n",
      "ord_32(27)=8\n",
      "ord_32(29)=8\n",
      "ord_32(31)=2\n"
     ]
    }
   ],
   "source": [
    "for a in range(32):\n",
    "    if gcd(32, a) == 1:\n",
    "        print('ord_32(' + str(a) + ')=' + str(ordmod(32,a)))"
   ]
  }
 ],
 "metadata": {
  "kernelspec": {
   "display_name": "Python 3 (ipykernel)",
   "language": "python",
   "name": "python3"
  },
  "language_info": {
   "codemirror_mode": {
    "name": "ipython",
    "version": 3
   },
   "file_extension": ".py",
   "mimetype": "text/x-python",
   "name": "python",
   "nbconvert_exporter": "python",
   "pygments_lexer": "ipython3",
   "version": "3.10.6"
  }
 },
 "nbformat": 4,
 "nbformat_minor": 5
}
