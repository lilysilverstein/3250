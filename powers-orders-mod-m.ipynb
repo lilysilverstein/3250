{
 "cells": [
  {
   "cell_type": "markdown",
   "id": "6313fc32",
   "metadata": {},
   "source": [
    "### Finding powers mod m- two different python commands"
   ]
  },
  {
   "cell_type": "code",
   "execution_count": 2,
   "id": "2c2420cb",
   "metadata": {},
   "outputs": [
    {
     "data": {
      "text/plain": [
       "10726"
      ]
     },
     "execution_count": 2,
     "metadata": {},
     "output_type": "execute_result"
    }
   ],
   "source": [
    "# to find 9527 raised to the 4423rd power modulo 11239 the \"basic\" way:\n",
    "9527**4423 % 11239"
   ]
  },
  {
   "cell_type": "code",
   "execution_count": 3,
   "id": "4e4588b7",
   "metadata": {},
   "outputs": [
    {
     "data": {
      "text/plain": [
       "10726"
      ]
     },
     "execution_count": 3,
     "metadata": {},
     "output_type": "execute_result"
    }
   ],
   "source": [
    "# to find 9527 raised to the 4423rd power modulo 11239 the \"efficient\" way:\n",
    "pow(9527, 4423, 11239)"
   ]
  },
  {
   "cell_type": "code",
   "execution_count": 4,
   "id": "6a23bc30",
   "metadata": {},
   "outputs": [],
   "source": [
    "# comparison of the two commands\n",
    "import timeit"
   ]
  },
  {
   "cell_type": "code",
   "execution_count": 5,
   "id": "b9c70624",
   "metadata": {},
   "outputs": [
    {
     "data": {
      "text/plain": [
       "0.030542219999915687"
      ]
     },
     "execution_count": 5,
     "metadata": {},
     "output_type": "execute_result"
    }
   ],
   "source": [
    "timeit.timeit('9527**4423 % 11239', number=100)"
   ]
  },
  {
   "cell_type": "code",
   "execution_count": 6,
   "id": "653f8cd8",
   "metadata": {},
   "outputs": [
    {
     "data": {
      "text/plain": [
       "0.00012786199840775225"
      ]
     },
     "execution_count": 6,
     "metadata": {},
     "output_type": "execute_result"
    }
   ],
   "source": [
    "timeit.timeit('pow(9527, 4423, 11239)', number=100)"
   ]
  },
  {
   "cell_type": "code",
   "execution_count": 10,
   "id": "3c092a68",
   "metadata": {},
   "outputs": [
    {
     "data": {
      "text/plain": [
       "33.897694593999404"
      ]
     },
     "execution_count": 10,
     "metadata": {},
     "output_type": "execute_result"
    }
   ],
   "source": [
    "timeit.timeit('9123527**4123423 % 11231239', number=1)"
   ]
  },
  {
   "cell_type": "code",
   "execution_count": 12,
   "id": "9eeb57fd",
   "metadata": {},
   "outputs": [
    {
     "data": {
      "text/plain": [
       "0.00020547100029943977"
      ]
     },
     "execution_count": 12,
     "metadata": {},
     "output_type": "execute_result"
    }
   ],
   "source": [
    "timeit.timeit('pow(9123527, 4123423, 11231239)', number=100)"
   ]
  },
  {
   "cell_type": "markdown",
   "id": "c41704a3",
   "metadata": {},
   "source": [
    "### Finding the multiplicative order of a modulo m"
   ]
  },
  {
   "cell_type": "code",
   "execution_count": 22,
   "id": "d1df4ef0",
   "metadata": {},
   "outputs": [
    {
     "name": "stdout",
     "output_type": "stream",
     "text": [
      "i a^i mod m\n",
      "1     4\n",
      "2     5\n",
      "3     9\n",
      "4     3\n",
      "5     1\n",
      "6     4\n",
      "7     5\n",
      "8     9\n",
      "9     3\n",
      "10     1\n"
     ]
    }
   ],
   "source": [
    "m = 11\n",
    "a = 4\n",
    "print('i', 'a^i mod m')\n",
    "for i in range(1, m):\n",
    "    print(i, '   ', a**i % m)"
   ]
  },
  {
   "cell_type": "code",
   "execution_count": null,
   "id": "839f8a7d",
   "metadata": {},
   "outputs": [],
   "source": []
  }
 ],
 "metadata": {
  "kernelspec": {
   "display_name": "Python 2",
   "language": "python",
   "name": "python2"
  },
  "language_info": {
   "codemirror_mode": {
    "name": "ipython",
    "version": 3
   },
   "file_extension": ".py",
   "mimetype": "text/x-python",
   "name": "python",
   "nbconvert_exporter": "python",
   "pygments_lexer": "ipython3",
   "version": "3.10.6"
  }
 },
 "nbformat": 4,
 "nbformat_minor": 5
}
