{
 "cells": [
  {
   "cell_type": "markdown",
   "metadata": {
    "collapsed": false
   },
   "source": [
    "#### some helper functions"
   ]
  },
  {
   "cell_type": "code",
   "execution_count": 54,
   "metadata": {
    "collapsed": false
   },
   "outputs": [
   ],
   "source": [
    "# function for computing the coefficients from the Extended Euclidean Algorithm\n",
    "# credit: https://en.wikibooks.org/wiki/Algorithm_Implementation/Mathematics/Extended_Euclidean_algorithm\n",
    "def xgcd(a, b):\n",
    "    \"\"\"return (g, x, y) such that a*x + b*y = g = gcd(a, b)\"\"\"\n",
    "    x0, x1, y0, y1 = 0, 1, 1, 0\n",
    "    while a != 0:\n",
    "        (q, a), b = divmod(b, a), a\n",
    "        y0, y1 = y1, y0 - q * y1\n",
    "        x0, x1 = x1, x0 - q * x1\n",
    "    return b, x0, y0\n",
    "\n",
    "# function for computing the inverse of a modulo b\n",
    "# credit: https://en.wikibooks.org/wiki/Algorithm_Implementation/Mathematics/Extended_Euclidean_algorithm\n",
    "def modinv(a, b):\n",
    "    \"\"\"return x such that (x * a) % b == 1\"\"\"\n",
    "    g, x, _ = xgcd(a, b)\n",
    "    if g != 1:\n",
    "        raise Exception('gcd(a, b) != 1')\n",
    "    return x % b"
   ]
  },
  {
   "cell_type": "markdown",
   "metadata": {
    "collapsed": false
   },
   "source": [
    "## Example from class, with better character encoding"
   ]
  },
  {
   "cell_type": "code",
   "execution_count": 71,
   "metadata": {
    "collapsed": false
   },
   "outputs": [
    {
     "name": "stdout",
     "output_type": "stream",
     "text": [
      "public key: (m,k) = (323, 11)\n",
      "private key: (m,u) = (323, 131)\n"
     ]
    }
   ],
   "source": [
    "p = 17\n",
    "q = 19\n",
    "m = p*q\n",
    "phi_m = (p-1)*(q-1)\n",
    "k = 11\n",
    "u = modinv(k, phi_m)\n",
    "print(\"public key: (m,k) = (\"+str(m)+\", \"+str(k)+\")\")\n",
    "print(\"private key: (m,u) = (\"+str(m)+\", \"+str(u)+\")\")"
   ]
  },
  {
   "cell_type": "markdown",
   "metadata": {
    "collapsed": false
   },
   "source": [
    "### Encryption"
   ]
  },
  {
   "cell_type": "code",
   "execution_count": 72,
   "metadata": {
    "collapsed": false
   },
   "outputs": [
    {
     "name": "stdout",
     "output_type": "stream",
     "text": [
      "secret message (not sent publicly): [72, 69, 76, 76, 79, 32, 87, 79, 82, 76, 68]\n",
      "encrypted message (sent publicly): [98, 103, 19, 19, 29, 230, 178, 29, 112, 19, 102]\n"
     ]
    }
   ],
   "source": [
    "# message we want to send\n",
    "X = 'HELLO WORLD'\n",
    "\n",
    "# break message into chunks, in this case we give the unicode integer code for each character\n",
    "x = [ord(character) for character in X]\n",
    "print(\"secret message (not sent publicly): \"+str(x))\n",
    "\n",
    "# encrypted message chunks\n",
    "b = [x_i**k % m for x_i in x]\n",
    "print(\"encrypted message (sent publicly): \"+str(b))\n"
   ]
  },
  {
   "cell_type": "markdown",
   "metadata": {
    "collapsed": false
   },
   "source": [
    "### Decryption"
   ]
  },
  {
   "cell_type": "code",
   "execution_count": 73,
   "metadata": {
    "collapsed": false
   },
   "outputs": [
    {
     "name": "stdout",
     "output_type": "stream",
     "text": [
      "recovered message: [72, 69, 76, 76, 79, 32, 87, 79, 82, 76, 68] = HELLO WORLD\n"
     ]
    }
   ],
   "source": [
    "y = [b_i**u % m for b_i in b]\n",
    "print(\"recovered message: \"+str(y)+' = '+''.join([chr(y_i) for y_i in y])) # chr(y_i) converts the integer y_i into its corresponding unicode symbol"
   ]
  },
  {
   "cell_type": "markdown",
   "metadata": {
    "collapsed": false
   },
   "source": [
    "\n",
    "\n",
    "## Example with larger values for m and k"
   ]
  },
  {
   "cell_type": "code",
   "execution_count": 74,
   "metadata": {
    "collapsed": false
   },
   "outputs": [
    {
     "name": "stdout",
     "output_type": "stream",
     "text": [
      "public key: (m,k) = (1954806333749, 976327)\n",
      "private key: (m,u) = (1954806333749, 362428531063)\n",
      "secret message (not sent publicly): [77, 65, 84, 72, 32, 82, 85, 76, 69, 90]\n",
      "encrypted message (sent publicly): [1432327039914, 30300114129, 623686738302, 33849814370, 367378712896, 142134308671, 1806897596391, 1002261682695, 465850612263, 1495509716268]\n",
      "recovered message: [77, 65, 84, 72, 32, 82, 85, 76, 69, 90] = MATH RULEZ\n"
     ]
    }
   ],
   "source": [
    "p = 1282529\n",
    "q = 1524181\n",
    "m = p*q\n",
    "phi_m = (p-1)*(q-1)\n",
    "\n",
    "k = 976327\n",
    "u = modinv(k, phi_m)\n",
    "print(\"public key: (m,k) = (\"+str(m)+\", \"+str(k)+\")\")\n",
    "print(\"private key: (m,u) = (\"+str(m)+\", \"+str(u)+\")\")\n",
    "\n",
    "# message we want to send\n",
    "X = 'MATH RULEZ'\n",
    "\n",
    "# break message into chunks, in this case we give the unicode integer code for each character\n",
    "x = [ord(character) for character in X]\n",
    "print(\"secret message (not sent publicly): \"+str(x))\n",
    "\n",
    "# encrypted message chunks\n",
    "b = [pow(x_i, k, m) for x_i in x]\n",
    "print(\"encrypted message (sent publicly): \"+str(b))\n",
    "\n",
    "y = [pow(b_i, u, m) for b_i in b]\n",
    "print(\"recovered message: \"+str(y)+' = '+''.join([chr(y_i) for y_i in y])) # chr(y_i) converts the integer y_i into its corresponding unicode symbol"
   ]
  },
  {
   "cell_type": "code",
   "execution_count": 0,
   "metadata": {
    "collapsed": false
   },
   "outputs": [
   ],
   "source": [
   ]
  }
 ],
 "metadata": {
  "kernelspec": {
   "display_name": "Python 3 (system-wide)",
   "language": "python",
   "metadata": {
    "cocalc": {
     "description": "Python 3 programming language",
     "priority": 100,
     "url": "https://www.python.org/"
    }
   },
   "name": "python3"
  },
  "language_info": {
   "codemirror_mode": {
    "name": "ipython",
    "version": 3
   },
   "file_extension": ".py",
   "mimetype": "text/x-python",
   "name": "python",
   "nbconvert_exporter": "python",
   "pygments_lexer": "ipython3",
   "version": "3.6.9"
  }
 },
 "nbformat": 4,
 "nbformat_minor": 0
}